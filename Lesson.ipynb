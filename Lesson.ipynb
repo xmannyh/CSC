{
 "cells": [
  {
   "cell_type": "code",
   "execution_count": 1,
   "metadata": {},
   "outputs": [
    {
     "name": "stdout",
     "output_type": "stream",
     "text": [
      "Hello World\n"
     ]
    }
   ],
   "source": [
    "print('Hello World')"
   ]
  },
  {
   "cell_type": "markdown",
   "metadata": {},
   "source": [
    "Challenge: <br/>\n",
    "Write a story using multiple print statements."
   ]
  },
  {
   "cell_type": "code",
   "execution_count": 2,
   "metadata": {},
   "outputs": [
    {
     "name": "stdout",
     "output_type": "stream",
     "text": [
      "There once was a dog named Stacey.\n",
      "She was 5 years old and had lost her human.\n",
      "Thankfully, a heroic human named Ashley found the Stacey and took her to the shelter.\n",
      "Later this heroic human found the owner and told them that Stacey was safe, and at the shelter.\n",
      "The day was saved thanks to Ashley, and because of her actions, Stacey was able to reunite with her human.\n",
      "THE END.\n"
     ]
    }
   ],
   "source": [
    "print('There once was a dog named Stacey.')\n",
    "print('She was 5 years old and had lost her human.')\n",
    "print('Thankfully, a heroic human named Ashley found Stacey and took her to the shelter.')\n",
    "print('Later this heroic human found the owner and told them that Stacey was safe, and at the shelter.')\n",
    "print('The day was saved thanks to Ashley, and because of her actions, Stacey was able to reunite with her human.')\n",
    "print('THE END.')"
   ]
  },
  {
   "cell_type": "markdown",
   "metadata": {},
   "source": [
    "We can also store these values for later use. Here's an example:"
   ]
  },
  {
   "cell_type": "code",
   "execution_count": 3,
   "metadata": {
    "collapsed": true
   },
   "outputs": [],
   "source": [
    "intro = 'There once was a dog named Stacey.'\n",
    "doggo = 'She was 5 years old and had lost her human.'"
   ]
  },
  {
   "cell_type": "markdown",
   "metadata": {},
   "source": [
    "Now all we have to do is print 'intro' or 'doggo'"
   ]
  },
  {
   "cell_type": "code",
   "execution_count": 4,
   "metadata": {},
   "outputs": [
    {
     "name": "stdout",
     "output_type": "stream",
     "text": [
      "There once was a dog named Stacey.\n",
      "She was 5 years old and had lost her human.\n"
     ]
    }
   ],
   "source": [
    "print(intro)\n",
    "print(doggo)"
   ]
  },
  {
   "cell_type": "markdown",
   "metadata": {},
   "source": [
    "we can even combine them!"
   ]
  },
  {
   "cell_type": "code",
   "execution_count": 5,
   "metadata": {},
   "outputs": [
    {
     "name": "stdout",
     "output_type": "stream",
     "text": [
      "There once was a dog named Stacey.She was 5 years old and had lost her human.\n"
     ]
    }
   ],
   "source": [
    "print(intro + doggo)"
   ]
  },
  {
   "cell_type": "markdown",
   "metadata": {},
   "source": [
    "But there should be a space between the two sentences! How do we fix that? <br/>\n",
    "Here's one way:"
   ]
  },
  {
   "cell_type": "code",
   "execution_count": 6,
   "metadata": {},
   "outputs": [
    {
     "name": "stdout",
     "output_type": "stream",
     "text": [
      "There once was a dog named Stacey. She was 5 years old and had lost her human.\n"
     ]
    }
   ],
   "source": [
    "print(intro + \" \" + doggo)"
   ]
  },
  {
   "cell_type": "markdown",
   "metadata": {},
   "source": [
    "Awesome! but maybe we want to be able to change the story later on. Could we use variables to help us change the story? <br/>\n",
    "yeeeup! <br/>\n",
    "First lets make a variable for everyline."
   ]
  },
  {
   "cell_type": "code",
   "execution_count": 9,
   "metadata": {},
   "outputs": [
    {
     "name": "stdout",
     "output_type": "stream",
     "text": [
      "There once was a dog named Stacey.\n",
      "She was 5 years old and had lost her human.\n",
      "Thankfully, a heroic human named Ashley found the Stacey and took her to the shelter.\n",
      "Later this heroic human found the owner and told them that Stacey was safe, and at the shelter.\n",
      "The day was saved thanks to Ashley, and because of her actions, Stacey was able to reunite with her human.\n",
      "THE END.\n"
     ]
    }
   ],
   "source": [
    "line1 = 'There once was a dog named Stacey.'\n",
    "line2 = 'She was 5 years old and had lost her human.'\n",
    "line3 = 'Thankfully, a heroic human named Ashley found Stacey and took her to the shelter.'\n",
    "line4 = 'Later this heroic human found the owner and told them that Stacey was safe, and at the shelter.'\n",
    "line5 = 'The day was saved thanks to Ashley, and because of her actions, Stacey was able to reunite with her human.'\n",
    "theEnd = 'THE END.'\n",
    "\n",
    "print(line1)\n",
    "print(line2)\n",
    "print(line3)\n",
    "print(line4)\n",
    "print(line5)\n",
    "print(theEnd)"
   ]
  },
  {
   "cell_type": "markdown",
   "metadata": {},
   "source": [
    "What might we want to change in the story?\n",
    "How about Stacey's name and age?<br/>\n",
    "With age we have to be careful. How do we add a string and a number together?"
   ]
  },
  {
   "cell_type": "code",
   "execution_count": 11,
   "metadata": {},
   "outputs": [
    {
     "name": "stdout",
     "output_type": "stream",
     "text": [
      "There once was a dog named Abby.\n",
      "She was 4 years old and had lost her human.\n",
      "There once was a dog named Annie.\n",
      "She was 5 years old and had lost her human.\n"
     ]
    }
   ],
   "source": [
    "doggo = 'Abby'\n",
    "age = 4\n",
    "\n",
    "line1 = 'There once was a dog named ' + doggo + '.'\n",
    "line2 = 'She was '+ str(age) + ' years old and had lost her human.'\n",
    "print(line1)\n",
    "print(line2)\n",
    "\n",
    "doggo = 'Annie'\n",
    "age = 5\n",
    "\n",
    "line1 = 'There once was a dog named ' + doggo + '.'\n",
    "line2 = 'She was '+ str(age) + ' years old and had lost her human.'\n",
    "print(line1)\n",
    "print(line2)"
   ]
  },
  {
   "cell_type": "markdown",
   "metadata": {},
   "source": [
    "Awesome! So now lets continue to make edits on our own stories and include variables! <br/>\n",
    "What if we want to change it while the program was running?"
   ]
  },
  {
   "cell_type": "code",
   "execution_count": 12,
   "metadata": {},
   "outputs": [
    {
     "name": "stdout",
     "output_type": "stream",
     "text": [
      "What's the name of our lost doggo???: Stacey\n",
      "What's her age??: 24\n",
      "There once was a dog named Stacey.\n",
      "She was 24 years old and had lost her human.\n"
     ]
    }
   ],
   "source": [
    "doggo = input(\"What's the name of our lost doggo???: \")\n",
    "age = input(\"What's her age??: \")\n",
    "\n",
    "line1 = 'There once was a dog named ' + doggo + '.'\n",
    "line2 = 'She was '+ str(age) + ' years old and had lost her human.'\n",
    "print(line1)\n",
    "print(line2)"
   ]
  },
  {
   "cell_type": "markdown",
   "metadata": {},
   "source": [
    "It worked! <br/>\n",
    "What happens if someone changes it to a male name though? How could we adjust it for male pronouns? <br/>\n",
    "Conditionals!"
   ]
  },
  {
   "cell_type": "code",
   "execution_count": 13,
   "metadata": {},
   "outputs": [
    {
     "name": "stdout",
     "output_type": "stream",
     "text": [
      "Is our doggo a male or female?: male\n",
      "He's a he!\n"
     ]
    }
   ],
   "source": [
    "gender = input(\"Is our doggo a male or female?: \")\n",
    "if gender == \"male\":\n",
    "    print(\"He's a he!\")\n",
    "elif gender == \"female\":\n",
    "    print(\"She's a she!\")"
   ]
  },
  {
   "cell_type": "markdown",
   "metadata": {},
   "source": [
    "Awesome! <br/>\n",
    "How could we change our past code using this technique?"
   ]
  },
  {
   "cell_type": "code",
   "execution_count": 3,
   "metadata": {},
   "outputs": [
    {
     "name": "stdout",
     "output_type": "stream",
     "text": [
      "What's the name of our lost doggo???: doggo\n",
      "What's their age??: 101\n",
      "Is our doggo a male or female?: male\n",
      "There once was a dog named doggo.\n",
      "doggo was 101 years old and had lost his human.\n"
     ]
    }
   ],
   "source": [
    "doggo = input(\"What's the name of our lost doggo???: \")\n",
    "age = input(\"What's their age??: \")\n",
    "gender = input(\"Is our doggo a male or female?: \")\n",
    "pronoun = 'he'\n",
    "if gender == \"male\":\n",
    "    pronoun = 'his'\n",
    "elif gender == \"female\":\n",
    "    pronoun = 'her'\n",
    "\n",
    "line1 = 'There once was a dog named ' + doggo + '.'\n",
    "line2 = doggo + ' was '+ str(age) + ' years old and had lost ' + pronoun + ' human.'\n",
    "print(line1)\n",
    "print(line2)"
   ]
  },
  {
   "cell_type": "markdown",
   "metadata": {},
   "source": [
    "So what are some problems that come up? <br/>"
   ]
  },
  {
   "cell_type": "code",
   "execution_count": 7,
   "metadata": {},
   "outputs": [
    {
     "name": "stdout",
     "output_type": "stream",
     "text": [
      "gender is: 3\n",
      "it didnt work\n"
     ]
    }
   ],
   "source": [
    "var = '3'\n",
    "print('var is: ' + var)\n",
    "if var == 3:\n",
    "    print('it worked')\n",
    "else:\n",
    "    print('it didnt work')"
   ]
  },
  {
   "cell_type": "code",
   "execution_count": 9,
   "metadata": {},
   "outputs": [
    {
     "name": "stdout",
     "output_type": "stream",
     "text": [
      "gender is: 3\n",
      "it worked\n"
     ]
    }
   ],
   "source": [
    "var = '3'\n",
    "print('var is: ' + var)\n",
    "if int(var) == 3:\n",
    "    print('it worked')\n",
    "else:\n",
    "    print('it didnt work')"
   ]
  },
  {
   "cell_type": "markdown",
   "metadata": {},
   "source": [
    "What we see here is a difference of TYPE. <br/>\n",
    "Notice how we had to change the variable var into an integer for it to work how we hoped. <br/>\n",
    "Comparing two different types often does not give you what you want. You have to be careful of what you're comparing.<br/>\n",
    "This also could have worked turning the 3 into a string like so:"
   ]
  },
  {
   "cell_type": "code",
   "execution_count": 10,
   "metadata": {},
   "outputs": [
    {
     "name": "stdout",
     "output_type": "stream",
     "text": [
      "var is: 3\n",
      "it worked\n"
     ]
    }
   ],
   "source": [
    "var = '3'\n",
    "print('var is: ' + var)\n",
    "if var == str(3):\n",
    "    print('it worked')\n",
    "else:\n",
    "    print('it didnt work')"
   ]
  },
  {
   "cell_type": "markdown",
   "metadata": {},
   "source": [
    "With numbers, we get special operators besides == and != for other kinds of comparison. <br/>\n",
    "We have access to <, >, <=, >="
   ]
  },
  {
   "cell_type": "code",
   "execution_count": 12,
   "metadata": {},
   "outputs": [
    {
     "name": "stdout",
     "output_type": "stream",
     "text": [
      "var is: 3\n",
      "it worked\n"
     ]
    }
   ],
   "source": [
    "var = 3\n",
    "print('var is: ' + str(var))\n",
    "if var < 5:\n",
    "    print('it worked')\n",
    "else:\n",
    "    print('it didnt work')"
   ]
  },
  {
   "cell_type": "markdown",
   "metadata": {},
   "source": [
    "Another use case for conditionals are while loops. These are useful for when we want to run things continously for some period of time. <br/>\n",
    "Lets go through an example:"
   ]
  },
  {
   "cell_type": "code",
   "execution_count": 15,
   "metadata": {},
   "outputs": [
    {
     "name": "stdout",
     "output_type": "stream",
     "text": [
      "4\n",
      "3\n",
      "2\n",
      "1\n",
      "0\n"
     ]
    }
   ],
   "source": [
    "var = 5\n",
    "while var > 0:\n",
    "    var = var - 1\n",
    "    print(var)"
   ]
  },
  {
   "cell_type": "markdown",
   "metadata": {},
   "source": [
    "The program will stay inside of the while loop until the conditional is false. <br/>\n",
    "Where could this help us with our story? Well we could simply spam the monitor forever. That's always fun!"
   ]
  },
  {
   "cell_type": "code",
   "execution_count": 4,
   "metadata": {},
   "outputs": [
    {
     "ename": "KeyboardInterrupt",
     "evalue": "",
     "output_type": "error",
     "traceback": [
      "\u001b[1;31m---------------------------------------------------------------------------\u001b[0m",
      "\u001b[1;31mKeyboardInterrupt\u001b[0m                         Traceback (most recent call last)",
      "\u001b[1;32m<ipython-input-4-26998e6bfa0e>\u001b[0m in \u001b[0;36m<module>\u001b[1;34m()\u001b[0m\n\u001b[0;32m      1\u001b[0m \u001b[0mvar\u001b[0m \u001b[1;33m=\u001b[0m \u001b[1;36m5\u001b[0m\u001b[1;33m\u001b[0m\u001b[0m\n\u001b[0;32m      2\u001b[0m \u001b[1;32mwhile\u001b[0m \u001b[1;32mTrue\u001b[0m\u001b[1;33m:\u001b[0m\u001b[1;33m\u001b[0m\u001b[0m\n\u001b[1;32m----> 3\u001b[1;33m     \u001b[0mvar\u001b[0m \u001b[1;33m=\u001b[0m \u001b[0mvar\u001b[0m \u001b[1;33m-\u001b[0m \u001b[1;36m1\u001b[0m\u001b[1;33m\u001b[0m\u001b[0m\n\u001b[0m\u001b[0;32m      4\u001b[0m     \u001b[1;31m#print(var)\u001b[0m\u001b[1;33m\u001b[0m\u001b[1;33m\u001b[0m\u001b[0m\n",
      "\u001b[1;31mKeyboardInterrupt\u001b[0m: "
     ]
    }
   ],
   "source": [
    "var = 5\n",
    "while True:\n",
    "    var = var - 1\n",
    "    print(var)"
   ]
  },
  {
   "cell_type": "markdown",
   "metadata": {},
   "source": [
    "But that isn't as cool as adding puzzle or questions to the story!"
   ]
  },
  {
   "cell_type": "code",
   "execution_count": 3,
   "metadata": {},
   "outputs": [
    {
     "name": "stdout",
     "output_type": "stream",
     "text": [
      "What's the name of our lost doggo???: doggo\n",
      "What's her age??: 3\n",
      "What's your name?: kylo ren\n",
      "There once was a dog named doggo.\n",
      "She was 3 years old and had lost her human.\n",
      "Thankfully, a heroic human named kylo ren found Stacey!\n",
      "What should kylo ren do??\n",
      "1) Call the animal shelter for help.\n",
      "2) doggo is her dog now!\n",
      "Enter 1 or 2: 2\n",
      "kylo ren has a new pet!\n",
      "Later this heroic human found the owner and told them that doggo is now hers and should find a new best firend!\n",
      "The day was saved thanks to kylo ren, and because of her actions, doggo is safe and sound.\n",
      "THE END.\n"
     ]
    }
   ],
   "source": [
    "doggo = input(\"What's the name of our lost doggo???: \")\n",
    "age = input(\"What's her age??: \")\n",
    "name = input(\"What's your name?: \")\n",
    "line1 = 'There once was a dog named ' + doggo + '.'\n",
    "line2 = 'She was '+ str(age) + ' years old and had lost her human.'\n",
    "line3 = 'Thankfully, a heroic human named ' + name + ' found Stacey!'\n",
    "q1 = 'What should ' + name + ' do??'\n",
    "a11 = '1) Call the animal shelter for help.'\n",
    "a12 = '2) ' + doggo + ' is her dog now!'\n",
    "line4 = 'Later this heroic human found the owner and told them that '\n",
    "line5 = 'The day was saved thanks to ' + name + ', and because of her actions, ' + doggo + ' is safe and sound.'\n",
    "theEnd = 'THE END.'\n",
    "ending = ''\n",
    "\n",
    "print(line1)\n",
    "print(line2)\n",
    "print(line3)\n",
    "validAnswer = False\n",
    "while validAnswer != True:\n",
    "    print(q1)\n",
    "    print(a11)\n",
    "    print(a12)\n",
    "    answer = input(\"Enter 1 or 2: \")\n",
    "    if answer == '1':\n",
    "        validAnswer = True\n",
    "        print(name +' calls the shelter and makes sure the ' + doggo + ' is safe before looking for the owner.')\n",
    "        ending = doggo + ' was safe, and at the shelter.'\n",
    "    elif answer == '2':\n",
    "        validAnswer = True\n",
    "        print(name + ' has a new pet!')\n",
    "        ending = doggo + ' is now hers and should find a new best firend!'\n",
    "    else:\n",
    "        print('please enter a valid number')\n",
    "print(line4 + ending)\n",
    "print(line5)\n",
    "print(theEnd)"
   ]
  },
  {
   "cell_type": "markdown",
   "metadata": {},
   "source": [
    "And there we have it. Our text adventure! <br/>\n",
    "Back in the day, many games were made like this. If you would like, we could bring our stories again next week and share them with the club!"
   ]
  },
  {
   "cell_type": "code",
   "execution_count": null,
   "metadata": {
    "collapsed": true
   },
   "outputs": [],
   "source": []
  }
 ],
 "metadata": {
  "kernelspec": {
   "display_name": "Python 3",
   "language": "python",
   "name": "python3"
  },
  "language_info": {
   "codemirror_mode": {
    "name": "ipython",
    "version": 3
   },
   "file_extension": ".py",
   "mimetype": "text/x-python",
   "name": "python",
   "nbconvert_exporter": "python",
   "pygments_lexer": "ipython3",
   "version": "3.6.1"
  }
 },
 "nbformat": 4,
 "nbformat_minor": 2
}
